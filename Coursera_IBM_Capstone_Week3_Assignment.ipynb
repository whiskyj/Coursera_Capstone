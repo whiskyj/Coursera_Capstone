{
 "cells": [
  {
   "cell_type": "markdown",
   "metadata": {},
   "source": [
    "# Start of Part 1"
   ]
  },
  {
   "cell_type": "code",
   "execution_count": 6,
   "metadata": {},
   "outputs": [],
   "source": [
    "from bs4 import BeautifulSoup\n",
    "import requests\n",
    "import pandas as pd\n",
    "import numpy as np"
   ]
  },
  {
   "cell_type": "markdown",
   "metadata": {},
   "source": [
    "# Extracted Data from Website using Beautiful Soup"
   ]
  },
  {
   "cell_type": "code",
   "execution_count": 7,
   "metadata": {},
   "outputs": [
    {
     "data": {
      "text/html": [
       "<div>\n",
       "<style scoped>\n",
       "    .dataframe tbody tr th:only-of-type {\n",
       "        vertical-align: middle;\n",
       "    }\n",
       "\n",
       "    .dataframe tbody tr th {\n",
       "        vertical-align: top;\n",
       "    }\n",
       "\n",
       "    .dataframe thead th {\n",
       "        text-align: right;\n",
       "    }\n",
       "</style>\n",
       "<table border=\"1\" class=\"dataframe\">\n",
       "  <thead>\n",
       "    <tr style=\"text-align: right;\">\n",
       "      <th></th>\n",
       "      <th>Postal Code</th>\n",
       "      <th>Borough</th>\n",
       "      <th>Neighbourhood</th>\n",
       "    </tr>\n",
       "  </thead>\n",
       "  <tbody>\n",
       "    <tr>\n",
       "      <th>0</th>\n",
       "      <td>M1A</td>\n",
       "      <td>Not assigned</td>\n",
       "      <td>Not assigned</td>\n",
       "    </tr>\n",
       "    <tr>\n",
       "      <th>1</th>\n",
       "      <td>M2A</td>\n",
       "      <td>Not assigned</td>\n",
       "      <td>Not assigned</td>\n",
       "    </tr>\n",
       "    <tr>\n",
       "      <th>2</th>\n",
       "      <td>M3A</td>\n",
       "      <td>North York</td>\n",
       "      <td>Parkwoods</td>\n",
       "    </tr>\n",
       "    <tr>\n",
       "      <th>3</th>\n",
       "      <td>M4A</td>\n",
       "      <td>North York</td>\n",
       "      <td>Victoria Village</td>\n",
       "    </tr>\n",
       "    <tr>\n",
       "      <th>4</th>\n",
       "      <td>M5A</td>\n",
       "      <td>Downtown Toronto</td>\n",
       "      <td>Regent Park, Harbourfront</td>\n",
       "    </tr>\n",
       "  </tbody>\n",
       "</table>\n",
       "</div>"
      ],
      "text/plain": [
       "  Postal Code           Borough              Neighbourhood\n",
       "0         M1A      Not assigned               Not assigned\n",
       "1         M2A      Not assigned               Not assigned\n",
       "2         M3A        North York                  Parkwoods\n",
       "3         M4A        North York           Victoria Village\n",
       "4         M5A  Downtown Toronto  Regent Park, Harbourfront"
      ]
     },
     "execution_count": 7,
     "metadata": {},
     "output_type": "execute_result"
    }
   ],
   "source": [
    "url='https://en.wikipedia.org/wiki/List_of_postal_codes_of_Canada:_M'\n",
    "response = requests.get(url)\n",
    "data = response.text\n",
    "soup = BeautifulSoup(data,'html.parser')\n",
    "wiki_table=soup.find('table')\n",
    "df = pd.read_html(str(wiki_table))[0]\n",
    "df.head()"
   ]
  },
  {
   "cell_type": "code",
   "execution_count": 8,
   "metadata": {},
   "outputs": [
    {
     "data": {
      "text/html": [
       "<div>\n",
       "<style scoped>\n",
       "    .dataframe tbody tr th:only-of-type {\n",
       "        vertical-align: middle;\n",
       "    }\n",
       "\n",
       "    .dataframe tbody tr th {\n",
       "        vertical-align: top;\n",
       "    }\n",
       "\n",
       "    .dataframe thead th {\n",
       "        text-align: right;\n",
       "    }\n",
       "</style>\n",
       "<table border=\"1\" class=\"dataframe\">\n",
       "  <thead>\n",
       "    <tr style=\"text-align: right;\">\n",
       "      <th></th>\n",
       "      <th>PostalCode</th>\n",
       "      <th>Borough</th>\n",
       "      <th>Neighborhood</th>\n",
       "    </tr>\n",
       "  </thead>\n",
       "  <tbody>\n",
       "    <tr>\n",
       "      <th>1</th>\n",
       "      <td>M2A</td>\n",
       "      <td>Not assigned</td>\n",
       "      <td>Not assigned</td>\n",
       "    </tr>\n",
       "    <tr>\n",
       "      <th>2</th>\n",
       "      <td>M3A</td>\n",
       "      <td>North York</td>\n",
       "      <td>Parkwoods</td>\n",
       "    </tr>\n",
       "    <tr>\n",
       "      <th>3</th>\n",
       "      <td>M4A</td>\n",
       "      <td>North York</td>\n",
       "      <td>Victoria Village</td>\n",
       "    </tr>\n",
       "    <tr>\n",
       "      <th>4</th>\n",
       "      <td>M5A</td>\n",
       "      <td>Downtown Toronto</td>\n",
       "      <td>Regent Park, Harbourfront</td>\n",
       "    </tr>\n",
       "    <tr>\n",
       "      <th>5</th>\n",
       "      <td>M6A</td>\n",
       "      <td>North York</td>\n",
       "      <td>Lawrence Manor, Lawrence Heights</td>\n",
       "    </tr>\n",
       "  </tbody>\n",
       "</table>\n",
       "</div>"
      ],
      "text/plain": [
       "  PostalCode           Borough                      Neighborhood\n",
       "1        M2A      Not assigned                      Not assigned\n",
       "2        M3A        North York                         Parkwoods\n",
       "3        M4A        North York                  Victoria Village\n",
       "4        M5A  Downtown Toronto         Regent Park, Harbourfront\n",
       "5        M6A        North York  Lawrence Manor, Lawrence Heights"
      ]
     },
     "execution_count": 8,
     "metadata": {},
     "output_type": "execute_result"
    }
   ],
   "source": [
    "df.drop(0,inplace=True)\n",
    "df.columns = ['PostalCode','Borough','Neighborhood']\n",
    "df.head()"
   ]
  },
  {
   "cell_type": "markdown",
   "metadata": {},
   "source": [
    "# Remove Not Assigned Cells below"
   ]
  },
  {
   "cell_type": "code",
   "execution_count": 9,
   "metadata": {},
   "outputs": [
    {
     "data": {
      "text/html": [
       "<div>\n",
       "<style scoped>\n",
       "    .dataframe tbody tr th:only-of-type {\n",
       "        vertical-align: middle;\n",
       "    }\n",
       "\n",
       "    .dataframe tbody tr th {\n",
       "        vertical-align: top;\n",
       "    }\n",
       "\n",
       "    .dataframe thead th {\n",
       "        text-align: right;\n",
       "    }\n",
       "</style>\n",
       "<table border=\"1\" class=\"dataframe\">\n",
       "  <thead>\n",
       "    <tr style=\"text-align: right;\">\n",
       "      <th></th>\n",
       "      <th>index</th>\n",
       "      <th>PostalCode</th>\n",
       "      <th>Borough</th>\n",
       "      <th>Neighborhood</th>\n",
       "    </tr>\n",
       "  </thead>\n",
       "  <tbody>\n",
       "    <tr>\n",
       "      <th>0</th>\n",
       "      <td>2</td>\n",
       "      <td>M3A</td>\n",
       "      <td>North York</td>\n",
       "      <td>Parkwoods</td>\n",
       "    </tr>\n",
       "    <tr>\n",
       "      <th>1</th>\n",
       "      <td>3</td>\n",
       "      <td>M4A</td>\n",
       "      <td>North York</td>\n",
       "      <td>Victoria Village</td>\n",
       "    </tr>\n",
       "    <tr>\n",
       "      <th>2</th>\n",
       "      <td>4</td>\n",
       "      <td>M5A</td>\n",
       "      <td>Downtown Toronto</td>\n",
       "      <td>Regent Park, Harbourfront</td>\n",
       "    </tr>\n",
       "    <tr>\n",
       "      <th>3</th>\n",
       "      <td>5</td>\n",
       "      <td>M6A</td>\n",
       "      <td>North York</td>\n",
       "      <td>Lawrence Manor, Lawrence Heights</td>\n",
       "    </tr>\n",
       "    <tr>\n",
       "      <th>4</th>\n",
       "      <td>6</td>\n",
       "      <td>M7A</td>\n",
       "      <td>Downtown Toronto</td>\n",
       "      <td>Queen's Park, Ontario Provincial Government</td>\n",
       "    </tr>\n",
       "  </tbody>\n",
       "</table>\n",
       "</div>"
      ],
      "text/plain": [
       "   index PostalCode           Borough  \\\n",
       "0      2        M3A        North York   \n",
       "1      3        M4A        North York   \n",
       "2      4        M5A  Downtown Toronto   \n",
       "3      5        M6A        North York   \n",
       "4      6        M7A  Downtown Toronto   \n",
       "\n",
       "                                  Neighborhood  \n",
       "0                                    Parkwoods  \n",
       "1                             Victoria Village  \n",
       "2                    Regent Park, Harbourfront  \n",
       "3             Lawrence Manor, Lawrence Heights  \n",
       "4  Queen's Park, Ontario Provincial Government  "
      ]
     },
     "execution_count": 9,
     "metadata": {},
     "output_type": "execute_result"
    }
   ],
   "source": [
    "df2=df[df['Borough'].str.contains(\"Not assigned\") == False].reset_index()\n",
    "df2.head()"
   ]
  },
  {
   "cell_type": "markdown",
   "metadata": {},
   "source": [
    "# Combine Two rows into one and split with a comma"
   ]
  },
  {
   "cell_type": "code",
   "execution_count": 11,
   "metadata": {},
   "outputs": [
    {
     "data": {
      "text/html": [
       "<div>\n",
       "<style scoped>\n",
       "    .dataframe tbody tr th:only-of-type {\n",
       "        vertical-align: middle;\n",
       "    }\n",
       "\n",
       "    .dataframe tbody tr th {\n",
       "        vertical-align: top;\n",
       "    }\n",
       "\n",
       "    .dataframe thead th {\n",
       "        text-align: right;\n",
       "    }\n",
       "</style>\n",
       "<table border=\"1\" class=\"dataframe\">\n",
       "  <thead>\n",
       "    <tr style=\"text-align: right;\">\n",
       "      <th></th>\n",
       "      <th>PostalCode</th>\n",
       "      <th>Borough</th>\n",
       "      <th>Neighborhood</th>\n",
       "    </tr>\n",
       "  </thead>\n",
       "  <tbody>\n",
       "    <tr>\n",
       "      <th>0</th>\n",
       "      <td>M1B</td>\n",
       "      <td>Scarborough</td>\n",
       "      <td>Malvern, Rouge</td>\n",
       "    </tr>\n",
       "    <tr>\n",
       "      <th>1</th>\n",
       "      <td>M1C</td>\n",
       "      <td>Scarborough</td>\n",
       "      <td>Rouge Hill, Port Union, Highland Creek</td>\n",
       "    </tr>\n",
       "    <tr>\n",
       "      <th>2</th>\n",
       "      <td>M1E</td>\n",
       "      <td>Scarborough</td>\n",
       "      <td>Guildwood, Morningside, West Hill</td>\n",
       "    </tr>\n",
       "    <tr>\n",
       "      <th>3</th>\n",
       "      <td>M1G</td>\n",
       "      <td>Scarborough</td>\n",
       "      <td>Woburn</td>\n",
       "    </tr>\n",
       "    <tr>\n",
       "      <th>4</th>\n",
       "      <td>M1H</td>\n",
       "      <td>Scarborough</td>\n",
       "      <td>Cedarbrae</td>\n",
       "    </tr>\n",
       "  </tbody>\n",
       "</table>\n",
       "</div>"
      ],
      "text/plain": [
       "  PostalCode      Borough                            Neighborhood\n",
       "0        M1B  Scarborough                          Malvern, Rouge\n",
       "1        M1C  Scarborough  Rouge Hill, Port Union, Highland Creek\n",
       "2        M1E  Scarborough       Guildwood, Morningside, West Hill\n",
       "3        M1G  Scarborough                                  Woburn\n",
       "4        M1H  Scarborough                               Cedarbrae"
      ]
     },
     "execution_count": 11,
     "metadata": {},
     "output_type": "execute_result"
    }
   ],
   "source": [
    "df3= df2.groupby(['PostalCode', 'Borough'])['Neighborhood'].apply(', '.join).reset_index()\n",
    "df3.head()"
   ]
  },
  {
   "cell_type": "markdown",
   "metadata": {},
   "source": [
    "# Calculate number of rows and columns in the dataframe"
   ]
  },
  {
   "cell_type": "code",
   "execution_count": 12,
   "metadata": {},
   "outputs": [
    {
     "data": {
      "text/plain": [
       "(103, 3)"
      ]
     },
     "execution_count": 12,
     "metadata": {},
     "output_type": "execute_result"
    }
   ],
   "source": [
    "df3.shape"
   ]
  },
  {
   "cell_type": "markdown",
   "metadata": {},
   "source": [
    "# Save as a CSV"
   ]
  },
  {
   "cell_type": "code",
   "execution_count": 13,
   "metadata": {},
   "outputs": [
    {
     "name": "stdout",
     "output_type": "stream",
     "text": [
      "You Rock!\n"
     ]
    }
   ],
   "source": [
    "df3.to_csv('Capstone_part1.csv')\n",
    "print('You Rock!')"
   ]
  },
  {
   "cell_type": "markdown",
   "metadata": {},
   "source": [
    "# Start of Part 2 - Get Geospatial Data"
   ]
  },
  {
   "cell_type": "code",
   "execution_count": 14,
   "metadata": {},
   "outputs": [
    {
     "data": {
      "text/html": [
       "<div>\n",
       "<style scoped>\n",
       "    .dataframe tbody tr th:only-of-type {\n",
       "        vertical-align: middle;\n",
       "    }\n",
       "\n",
       "    .dataframe tbody tr th {\n",
       "        vertical-align: top;\n",
       "    }\n",
       "\n",
       "    .dataframe thead th {\n",
       "        text-align: right;\n",
       "    }\n",
       "</style>\n",
       "<table border=\"1\" class=\"dataframe\">\n",
       "  <thead>\n",
       "    <tr style=\"text-align: right;\">\n",
       "      <th></th>\n",
       "      <th>Postal Code</th>\n",
       "      <th>Latitude</th>\n",
       "      <th>Longitude</th>\n",
       "    </tr>\n",
       "  </thead>\n",
       "  <tbody>\n",
       "    <tr>\n",
       "      <th>0</th>\n",
       "      <td>M1B</td>\n",
       "      <td>43.806686</td>\n",
       "      <td>-79.194353</td>\n",
       "    </tr>\n",
       "    <tr>\n",
       "      <th>1</th>\n",
       "      <td>M1C</td>\n",
       "      <td>43.784535</td>\n",
       "      <td>-79.160497</td>\n",
       "    </tr>\n",
       "    <tr>\n",
       "      <th>2</th>\n",
       "      <td>M1E</td>\n",
       "      <td>43.763573</td>\n",
       "      <td>-79.188711</td>\n",
       "    </tr>\n",
       "    <tr>\n",
       "      <th>3</th>\n",
       "      <td>M1G</td>\n",
       "      <td>43.770992</td>\n",
       "      <td>-79.216917</td>\n",
       "    </tr>\n",
       "    <tr>\n",
       "      <th>4</th>\n",
       "      <td>M1H</td>\n",
       "      <td>43.773136</td>\n",
       "      <td>-79.239476</td>\n",
       "    </tr>\n",
       "  </tbody>\n",
       "</table>\n",
       "</div>"
      ],
      "text/plain": [
       "  Postal Code   Latitude  Longitude\n",
       "0         M1B  43.806686 -79.194353\n",
       "1         M1C  43.784535 -79.160497\n",
       "2         M1E  43.763573 -79.188711\n",
       "3         M1G  43.770992 -79.216917\n",
       "4         M1H  43.773136 -79.239476"
      ]
     },
     "execution_count": 14,
     "metadata": {},
     "output_type": "execute_result"
    }
   ],
   "source": [
    "#Get Geospatial Data\n",
    "url='https://cocl.us/Geospatial_data/Geospatial_Coordinates.csv'\n",
    "df_geo=pd.read_csv(url)\n",
    "df_geo.head()"
   ]
  },
  {
   "cell_type": "code",
   "execution_count": 16,
   "metadata": {},
   "outputs": [
    {
     "data": {
      "text/html": [
       "<div>\n",
       "<style scoped>\n",
       "    .dataframe tbody tr th:only-of-type {\n",
       "        vertical-align: middle;\n",
       "    }\n",
       "\n",
       "    .dataframe tbody tr th {\n",
       "        vertical-align: top;\n",
       "    }\n",
       "\n",
       "    .dataframe thead th {\n",
       "        text-align: right;\n",
       "    }\n",
       "</style>\n",
       "<table border=\"1\" class=\"dataframe\">\n",
       "  <thead>\n",
       "    <tr style=\"text-align: right;\">\n",
       "      <th></th>\n",
       "      <th>PostalCode</th>\n",
       "      <th>Latitude</th>\n",
       "      <th>Longitude</th>\n",
       "    </tr>\n",
       "  </thead>\n",
       "  <tbody>\n",
       "    <tr>\n",
       "      <th>0</th>\n",
       "      <td>M1B</td>\n",
       "      <td>43.806686</td>\n",
       "      <td>-79.194353</td>\n",
       "    </tr>\n",
       "    <tr>\n",
       "      <th>1</th>\n",
       "      <td>M1C</td>\n",
       "      <td>43.784535</td>\n",
       "      <td>-79.160497</td>\n",
       "    </tr>\n",
       "    <tr>\n",
       "      <th>2</th>\n",
       "      <td>M1E</td>\n",
       "      <td>43.763573</td>\n",
       "      <td>-79.188711</td>\n",
       "    </tr>\n",
       "    <tr>\n",
       "      <th>3</th>\n",
       "      <td>M1G</td>\n",
       "      <td>43.770992</td>\n",
       "      <td>-79.216917</td>\n",
       "    </tr>\n",
       "    <tr>\n",
       "      <th>4</th>\n",
       "      <td>M1H</td>\n",
       "      <td>43.773136</td>\n",
       "      <td>-79.239476</td>\n",
       "    </tr>\n",
       "  </tbody>\n",
       "</table>\n",
       "</div>"
      ],
      "text/plain": [
       "  PostalCode   Latitude  Longitude\n",
       "0        M1B  43.806686 -79.194353\n",
       "1        M1C  43.784535 -79.160497\n",
       "2        M1E  43.763573 -79.188711\n",
       "3        M1G  43.770992 -79.216917\n",
       "4        M1H  43.773136 -79.239476"
      ]
     },
     "execution_count": 16,
     "metadata": {},
     "output_type": "execute_result"
    }
   ],
   "source": [
    "#Adjust column name same as the first dataset\n",
    "df_geo = df_geo.rename(columns = {'Postal Code':'PostalCode'}) \n",
    "df_geo.head()"
   ]
  },
  {
   "cell_type": "markdown",
   "metadata": {},
   "source": [
    "# Upload Data"
   ]
  },
  {
   "cell_type": "code",
   "execution_count": 17,
   "metadata": {},
   "outputs": [
    {
     "data": {
      "text/html": [
       "<div>\n",
       "<style scoped>\n",
       "    .dataframe tbody tr th:only-of-type {\n",
       "        vertical-align: middle;\n",
       "    }\n",
       "\n",
       "    .dataframe tbody tr th {\n",
       "        vertical-align: top;\n",
       "    }\n",
       "\n",
       "    .dataframe thead th {\n",
       "        text-align: right;\n",
       "    }\n",
       "</style>\n",
       "<table border=\"1\" class=\"dataframe\">\n",
       "  <thead>\n",
       "    <tr style=\"text-align: right;\">\n",
       "      <th></th>\n",
       "      <th>Unnamed: 0</th>\n",
       "      <th>PostalCode</th>\n",
       "      <th>Borough</th>\n",
       "      <th>Neighborhood</th>\n",
       "    </tr>\n",
       "  </thead>\n",
       "  <tbody>\n",
       "    <tr>\n",
       "      <th>0</th>\n",
       "      <td>0</td>\n",
       "      <td>M1B</td>\n",
       "      <td>Scarborough</td>\n",
       "      <td>Malvern, Rouge</td>\n",
       "    </tr>\n",
       "    <tr>\n",
       "      <th>1</th>\n",
       "      <td>1</td>\n",
       "      <td>M1C</td>\n",
       "      <td>Scarborough</td>\n",
       "      <td>Rouge Hill, Port Union, Highland Creek</td>\n",
       "    </tr>\n",
       "    <tr>\n",
       "      <th>2</th>\n",
       "      <td>2</td>\n",
       "      <td>M1E</td>\n",
       "      <td>Scarborough</td>\n",
       "      <td>Guildwood, Morningside, West Hill</td>\n",
       "    </tr>\n",
       "    <tr>\n",
       "      <th>3</th>\n",
       "      <td>3</td>\n",
       "      <td>M1G</td>\n",
       "      <td>Scarborough</td>\n",
       "      <td>Woburn</td>\n",
       "    </tr>\n",
       "    <tr>\n",
       "      <th>4</th>\n",
       "      <td>4</td>\n",
       "      <td>M1H</td>\n",
       "      <td>Scarborough</td>\n",
       "      <td>Cedarbrae</td>\n",
       "    </tr>\n",
       "  </tbody>\n",
       "</table>\n",
       "</div>"
      ],
      "text/plain": [
       "   Unnamed: 0 PostalCode      Borough                            Neighborhood\n",
       "0           0        M1B  Scarborough                          Malvern, Rouge\n",
       "1           1        M1C  Scarborough  Rouge Hill, Port Union, Highland Creek\n",
       "2           2        M1E  Scarborough       Guildwood, Morningside, West Hill\n",
       "3           3        M1G  Scarborough                                  Woburn\n",
       "4           4        M1H  Scarborough                               Cedarbrae"
      ]
     },
     "execution_count": 17,
     "metadata": {},
     "output_type": "execute_result"
    }
   ],
   "source": [
    "df3=pd.read_csv('Capstone_part1.csv')\n",
    "df3.head()"
   ]
  },
  {
   "cell_type": "markdown",
   "metadata": {},
   "source": [
    "# Merge Dataframes"
   ]
  },
  {
   "cell_type": "code",
   "execution_count": 18,
   "metadata": {},
   "outputs": [
    {
     "data": {
      "text/html": [
       "<div>\n",
       "<style scoped>\n",
       "    .dataframe tbody tr th:only-of-type {\n",
       "        vertical-align: middle;\n",
       "    }\n",
       "\n",
       "    .dataframe tbody tr th {\n",
       "        vertical-align: top;\n",
       "    }\n",
       "\n",
       "    .dataframe thead th {\n",
       "        text-align: right;\n",
       "    }\n",
       "</style>\n",
       "<table border=\"1\" class=\"dataframe\">\n",
       "  <thead>\n",
       "    <tr style=\"text-align: right;\">\n",
       "      <th></th>\n",
       "      <th>Unnamed: 0</th>\n",
       "      <th>PostalCode</th>\n",
       "      <th>Borough</th>\n",
       "      <th>Neighborhood</th>\n",
       "      <th>Latitude</th>\n",
       "      <th>Longitude</th>\n",
       "    </tr>\n",
       "  </thead>\n",
       "  <tbody>\n",
       "    <tr>\n",
       "      <th>0</th>\n",
       "      <td>0</td>\n",
       "      <td>M1B</td>\n",
       "      <td>Scarborough</td>\n",
       "      <td>Malvern, Rouge</td>\n",
       "      <td>43.806686</td>\n",
       "      <td>-79.194353</td>\n",
       "    </tr>\n",
       "    <tr>\n",
       "      <th>1</th>\n",
       "      <td>1</td>\n",
       "      <td>M1C</td>\n",
       "      <td>Scarborough</td>\n",
       "      <td>Rouge Hill, Port Union, Highland Creek</td>\n",
       "      <td>43.784535</td>\n",
       "      <td>-79.160497</td>\n",
       "    </tr>\n",
       "    <tr>\n",
       "      <th>2</th>\n",
       "      <td>2</td>\n",
       "      <td>M1E</td>\n",
       "      <td>Scarborough</td>\n",
       "      <td>Guildwood, Morningside, West Hill</td>\n",
       "      <td>43.763573</td>\n",
       "      <td>-79.188711</td>\n",
       "    </tr>\n",
       "    <tr>\n",
       "      <th>3</th>\n",
       "      <td>3</td>\n",
       "      <td>M1G</td>\n",
       "      <td>Scarborough</td>\n",
       "      <td>Woburn</td>\n",
       "      <td>43.770992</td>\n",
       "      <td>-79.216917</td>\n",
       "    </tr>\n",
       "    <tr>\n",
       "      <th>4</th>\n",
       "      <td>4</td>\n",
       "      <td>M1H</td>\n",
       "      <td>Scarborough</td>\n",
       "      <td>Cedarbrae</td>\n",
       "      <td>43.773136</td>\n",
       "      <td>-79.239476</td>\n",
       "    </tr>\n",
       "  </tbody>\n",
       "</table>\n",
       "</div>"
      ],
      "text/plain": [
       "   Unnamed: 0 PostalCode      Borough                            Neighborhood  \\\n",
       "0           0        M1B  Scarborough                          Malvern, Rouge   \n",
       "1           1        M1C  Scarborough  Rouge Hill, Port Union, Highland Creek   \n",
       "2           2        M1E  Scarborough       Guildwood, Morningside, West Hill   \n",
       "3           3        M1G  Scarborough                                  Woburn   \n",
       "4           4        M1H  Scarborough                               Cedarbrae   \n",
       "\n",
       "    Latitude  Longitude  \n",
       "0  43.806686 -79.194353  \n",
       "1  43.784535 -79.160497  \n",
       "2  43.763573 -79.188711  \n",
       "3  43.770992 -79.216917  \n",
       "4  43.773136 -79.239476  "
      ]
     },
     "execution_count": 18,
     "metadata": {},
     "output_type": "execute_result"
    }
   ],
   "source": [
    "df3 = pd.merge(df3, df_geo, on = 'PostalCode')\n",
    "df3.head()"
   ]
  },
  {
   "cell_type": "code",
   "execution_count": 19,
   "metadata": {},
   "outputs": [
    {
     "data": {
      "text/plain": [
       "(103, 6)"
      ]
     },
     "execution_count": 19,
     "metadata": {},
     "output_type": "execute_result"
    }
   ],
   "source": [
    "#Dataframe Statistics\n",
    "df3.shape"
   ]
  },
  {
   "cell_type": "markdown",
   "metadata": {},
   "source": [
    "# Save Data for part 2"
   ]
  },
  {
   "cell_type": "code",
   "execution_count": 20,
   "metadata": {},
   "outputs": [
    {
     "name": "stdout",
     "output_type": "stream",
     "text": [
      "You Rock Part 2!\n"
     ]
    }
   ],
   "source": [
    "df3.to_csv('Capstone_part2.csv', index=False)\n",
    "print('You Rock Part 2!')"
   ]
  },
  {
   "cell_type": "markdown",
   "metadata": {},
   "source": [
    "# Start of Part 3"
   ]
  },
  {
   "cell_type": "code",
   "execution_count": 23,
   "metadata": {},
   "outputs": [
    {
     "name": "stdout",
     "output_type": "stream",
     "text": [
      "Collecting geopy\n",
      "  Downloading geopy-2.1.0-py3-none-any.whl (112 kB)\n",
      "Collecting geographiclib<2,>=1.49\n",
      "  Downloading geographiclib-1.50-py3-none-any.whl (38 kB)\n",
      "Installing collected packages: geographiclib, geopy\n",
      "Successfully installed geographiclib-1.50 geopy-2.1.0\n",
      "Note: you may need to restart the kernel to use updated packages.\n"
     ]
    }
   ],
   "source": [
    "pip install geopy"
   ]
  },
  {
   "cell_type": "code",
   "execution_count": 24,
   "metadata": {},
   "outputs": [],
   "source": [
    "from geopy.geocoders import Nominatim\n",
    "import folium\n",
    "import matplotlib.cm as cm\n",
    "import matplotlib.colors as colors"
   ]
  },
  {
   "cell_type": "markdown",
   "metadata": {},
   "source": [
    "# Upload Dataset"
   ]
  },
  {
   "cell_type": "code",
   "execution_count": 25,
   "metadata": {},
   "outputs": [
    {
     "data": {
      "text/html": [
       "<div>\n",
       "<style scoped>\n",
       "    .dataframe tbody tr th:only-of-type {\n",
       "        vertical-align: middle;\n",
       "    }\n",
       "\n",
       "    .dataframe tbody tr th {\n",
       "        vertical-align: top;\n",
       "    }\n",
       "\n",
       "    .dataframe thead th {\n",
       "        text-align: right;\n",
       "    }\n",
       "</style>\n",
       "<table border=\"1\" class=\"dataframe\">\n",
       "  <thead>\n",
       "    <tr style=\"text-align: right;\">\n",
       "      <th></th>\n",
       "      <th>Unnamed: 0</th>\n",
       "      <th>PostalCode</th>\n",
       "      <th>Borough</th>\n",
       "      <th>Neighborhood</th>\n",
       "      <th>Latitude</th>\n",
       "      <th>Longitude</th>\n",
       "    </tr>\n",
       "  </thead>\n",
       "  <tbody>\n",
       "    <tr>\n",
       "      <th>0</th>\n",
       "      <td>0</td>\n",
       "      <td>M1B</td>\n",
       "      <td>Scarborough</td>\n",
       "      <td>Malvern, Rouge</td>\n",
       "      <td>43.806686</td>\n",
       "      <td>-79.194353</td>\n",
       "    </tr>\n",
       "    <tr>\n",
       "      <th>1</th>\n",
       "      <td>1</td>\n",
       "      <td>M1C</td>\n",
       "      <td>Scarborough</td>\n",
       "      <td>Rouge Hill, Port Union, Highland Creek</td>\n",
       "      <td>43.784535</td>\n",
       "      <td>-79.160497</td>\n",
       "    </tr>\n",
       "    <tr>\n",
       "      <th>2</th>\n",
       "      <td>2</td>\n",
       "      <td>M1E</td>\n",
       "      <td>Scarborough</td>\n",
       "      <td>Guildwood, Morningside, West Hill</td>\n",
       "      <td>43.763573</td>\n",
       "      <td>-79.188711</td>\n",
       "    </tr>\n",
       "    <tr>\n",
       "      <th>3</th>\n",
       "      <td>3</td>\n",
       "      <td>M1G</td>\n",
       "      <td>Scarborough</td>\n",
       "      <td>Woburn</td>\n",
       "      <td>43.770992</td>\n",
       "      <td>-79.216917</td>\n",
       "    </tr>\n",
       "    <tr>\n",
       "      <th>4</th>\n",
       "      <td>4</td>\n",
       "      <td>M1H</td>\n",
       "      <td>Scarborough</td>\n",
       "      <td>Cedarbrae</td>\n",
       "      <td>43.773136</td>\n",
       "      <td>-79.239476</td>\n",
       "    </tr>\n",
       "  </tbody>\n",
       "</table>\n",
       "</div>"
      ],
      "text/plain": [
       "   Unnamed: 0 PostalCode      Borough                            Neighborhood  \\\n",
       "0           0        M1B  Scarborough                          Malvern, Rouge   \n",
       "1           1        M1C  Scarborough  Rouge Hill, Port Union, Highland Creek   \n",
       "2           2        M1E  Scarborough       Guildwood, Morningside, West Hill   \n",
       "3           3        M1G  Scarborough                                  Woburn   \n",
       "4           4        M1H  Scarborough                               Cedarbrae   \n",
       "\n",
       "    Latitude  Longitude  \n",
       "0  43.806686 -79.194353  \n",
       "1  43.784535 -79.160497  \n",
       "2  43.763573 -79.188711  \n",
       "3  43.770992 -79.216917  \n",
       "4  43.773136 -79.239476  "
      ]
     },
     "execution_count": 25,
     "metadata": {},
     "output_type": "execute_result"
    }
   ],
   "source": [
    "df3=pd.read_csv('Capstone_part2.csv')\n",
    "df3.head()"
   ]
  },
  {
   "cell_type": "markdown",
   "metadata": {},
   "source": [
    "# Follow Exercise outline for dataframe"
   ]
  },
  {
   "cell_type": "code",
   "execution_count": 26,
   "metadata": {},
   "outputs": [
    {
     "data": {
      "text/html": [
       "<div>\n",
       "<style scoped>\n",
       "    .dataframe tbody tr th:only-of-type {\n",
       "        vertical-align: middle;\n",
       "    }\n",
       "\n",
       "    .dataframe tbody tr th {\n",
       "        vertical-align: top;\n",
       "    }\n",
       "\n",
       "    .dataframe thead th {\n",
       "        text-align: right;\n",
       "    }\n",
       "</style>\n",
       "<table border=\"1\" class=\"dataframe\">\n",
       "  <thead>\n",
       "    <tr style=\"text-align: right;\">\n",
       "      <th></th>\n",
       "      <th>Unnamed: 0</th>\n",
       "      <th>PostalCode</th>\n",
       "      <th>Borough</th>\n",
       "      <th>Neighborhood</th>\n",
       "      <th>Latitude</th>\n",
       "      <th>Longitude</th>\n",
       "    </tr>\n",
       "  </thead>\n",
       "  <tbody>\n",
       "    <tr>\n",
       "      <th>0</th>\n",
       "      <td>37</td>\n",
       "      <td>M4E</td>\n",
       "      <td>East Toronto</td>\n",
       "      <td>The Beaches</td>\n",
       "      <td>43.676357</td>\n",
       "      <td>-79.293031</td>\n",
       "    </tr>\n",
       "    <tr>\n",
       "      <th>1</th>\n",
       "      <td>41</td>\n",
       "      <td>M4K</td>\n",
       "      <td>East Toronto</td>\n",
       "      <td>The Danforth West, Riverdale</td>\n",
       "      <td>43.679557</td>\n",
       "      <td>-79.352188</td>\n",
       "    </tr>\n",
       "    <tr>\n",
       "      <th>2</th>\n",
       "      <td>42</td>\n",
       "      <td>M4L</td>\n",
       "      <td>East Toronto</td>\n",
       "      <td>India Bazaar, The Beaches West</td>\n",
       "      <td>43.668999</td>\n",
       "      <td>-79.315572</td>\n",
       "    </tr>\n",
       "    <tr>\n",
       "      <th>3</th>\n",
       "      <td>43</td>\n",
       "      <td>M4M</td>\n",
       "      <td>East Toronto</td>\n",
       "      <td>Studio District</td>\n",
       "      <td>43.659526</td>\n",
       "      <td>-79.340923</td>\n",
       "    </tr>\n",
       "    <tr>\n",
       "      <th>4</th>\n",
       "      <td>44</td>\n",
       "      <td>M4N</td>\n",
       "      <td>Central Toronto</td>\n",
       "      <td>Lawrence Park</td>\n",
       "      <td>43.728020</td>\n",
       "      <td>-79.388790</td>\n",
       "    </tr>\n",
       "  </tbody>\n",
       "</table>\n",
       "</div>"
      ],
      "text/plain": [
       "   Unnamed: 0 PostalCode          Borough                    Neighborhood  \\\n",
       "0          37        M4E     East Toronto                     The Beaches   \n",
       "1          41        M4K     East Toronto    The Danforth West, Riverdale   \n",
       "2          42        M4L     East Toronto  India Bazaar, The Beaches West   \n",
       "3          43        M4M     East Toronto                 Studio District   \n",
       "4          44        M4N  Central Toronto                   Lawrence Park   \n",
       "\n",
       "    Latitude  Longitude  \n",
       "0  43.676357 -79.293031  \n",
       "1  43.679557 -79.352188  \n",
       "2  43.668999 -79.315572  \n",
       "3  43.659526 -79.340923  \n",
       "4  43.728020 -79.388790  "
      ]
     },
     "execution_count": 26,
     "metadata": {},
     "output_type": "execute_result"
    }
   ],
   "source": [
    "df4=df3[df3['Borough'].str.contains('Toronto')]\n",
    "df5=df4.reset_index(drop=True)\n",
    "df5.head()"
   ]
  },
  {
   "cell_type": "markdown",
   "metadata": {},
   "source": [
    "# Get Data columns and rows"
   ]
  },
  {
   "cell_type": "code",
   "execution_count": 27,
   "metadata": {},
   "outputs": [
    {
     "data": {
      "text/plain": [
       "(39, 6)"
      ]
     },
     "execution_count": 27,
     "metadata": {},
     "output_type": "execute_result"
    }
   ],
   "source": [
    "df5.shape"
   ]
  },
  {
   "cell_type": "code",
   "execution_count": 28,
   "metadata": {},
   "outputs": [
    {
     "data": {
      "text/plain": [
       "Downtown Toronto    19\n",
       "Central Toronto      9\n",
       "West Toronto         6\n",
       "East Toronto         5\n",
       "Name: Borough, dtype: int64"
      ]
     },
     "execution_count": 28,
     "metadata": {},
     "output_type": "execute_result"
    }
   ],
   "source": [
    "df5['Borough'].value_counts()"
   ]
  },
  {
   "cell_type": "markdown",
   "metadata": {},
   "source": [
    "# Extract Toronto Coordinates"
   ]
  },
  {
   "cell_type": "code",
   "execution_count": 29,
   "metadata": {},
   "outputs": [
    {
     "data": {
      "text/html": [
       "<div>\n",
       "<style scoped>\n",
       "    .dataframe tbody tr th:only-of-type {\n",
       "        vertical-align: middle;\n",
       "    }\n",
       "\n",
       "    .dataframe tbody tr th {\n",
       "        vertical-align: top;\n",
       "    }\n",
       "\n",
       "    .dataframe thead th {\n",
       "        text-align: right;\n",
       "    }\n",
       "</style>\n",
       "<table border=\"1\" class=\"dataframe\">\n",
       "  <thead>\n",
       "    <tr style=\"text-align: right;\">\n",
       "      <th></th>\n",
       "      <th>Unnamed: 0</th>\n",
       "      <th>PostalCode</th>\n",
       "      <th>Borough</th>\n",
       "      <th>Neighborhood</th>\n",
       "      <th>Latitude</th>\n",
       "      <th>Longitude</th>\n",
       "      <th>Label</th>\n",
       "    </tr>\n",
       "  </thead>\n",
       "  <tbody>\n",
       "    <tr>\n",
       "      <th>0</th>\n",
       "      <td>37</td>\n",
       "      <td>M4E</td>\n",
       "      <td>East Toronto</td>\n",
       "      <td>The Beaches</td>\n",
       "      <td>43.676357</td>\n",
       "      <td>-79.293031</td>\n",
       "      <td>4</td>\n",
       "    </tr>\n",
       "    <tr>\n",
       "      <th>1</th>\n",
       "      <td>41</td>\n",
       "      <td>M4K</td>\n",
       "      <td>East Toronto</td>\n",
       "      <td>The Danforth West, Riverdale</td>\n",
       "      <td>43.679557</td>\n",
       "      <td>-79.352188</td>\n",
       "      <td>4</td>\n",
       "    </tr>\n",
       "    <tr>\n",
       "      <th>2</th>\n",
       "      <td>42</td>\n",
       "      <td>M4L</td>\n",
       "      <td>East Toronto</td>\n",
       "      <td>India Bazaar, The Beaches West</td>\n",
       "      <td>43.668999</td>\n",
       "      <td>-79.315572</td>\n",
       "      <td>4</td>\n",
       "    </tr>\n",
       "    <tr>\n",
       "      <th>3</th>\n",
       "      <td>43</td>\n",
       "      <td>M4M</td>\n",
       "      <td>East Toronto</td>\n",
       "      <td>Studio District</td>\n",
       "      <td>43.659526</td>\n",
       "      <td>-79.340923</td>\n",
       "      <td>4</td>\n",
       "    </tr>\n",
       "    <tr>\n",
       "      <th>4</th>\n",
       "      <td>44</td>\n",
       "      <td>M4N</td>\n",
       "      <td>Central Toronto</td>\n",
       "      <td>Lawrence Park</td>\n",
       "      <td>43.728020</td>\n",
       "      <td>-79.388790</td>\n",
       "      <td>2</td>\n",
       "    </tr>\n",
       "  </tbody>\n",
       "</table>\n",
       "</div>"
      ],
      "text/plain": [
       "   Unnamed: 0 PostalCode          Borough                    Neighborhood  \\\n",
       "0          37        M4E     East Toronto                     The Beaches   \n",
       "1          41        M4K     East Toronto    The Danforth West, Riverdale   \n",
       "2          42        M4L     East Toronto  India Bazaar, The Beaches West   \n",
       "3          43        M4M     East Toronto                 Studio District   \n",
       "4          44        M4N  Central Toronto                   Lawrence Park   \n",
       "\n",
       "    Latitude  Longitude  Label  \n",
       "0  43.676357 -79.293031      4  \n",
       "1  43.679557 -79.352188      4  \n",
       "2  43.668999 -79.315572      4  \n",
       "3  43.659526 -79.340923      4  \n",
       "4  43.728020 -79.388790      2  "
      ]
     },
     "execution_count": 29,
     "metadata": {},
     "output_type": "execute_result"
    }
   ],
   "source": [
    "df5['Label']=df5['Borough'].replace(to_replace=['Downtown Toronto','Central Toronto','West Toronto','East Toronto'],value=[1,2,3,4],inplace=False)\n",
    "df5.head()"
   ]
  },
  {
   "cell_type": "code",
   "execution_count": 30,
   "metadata": {},
   "outputs": [
    {
     "name": "stdout",
     "output_type": "stream",
     "text": [
      "The geograpical coordinate of Toronto are 43.6534817, -79.3839347.\n"
     ]
    }
   ],
   "source": [
    "address = 'Toronto'\n",
    "geolocator = Nominatim(user_agent=\"toronto_explorer\")\n",
    "location = geolocator.geocode(address)\n",
    "latitude = location.latitude\n",
    "longitude = location.longitude\n",
    "print(f'The geograpical coordinate of Toronto are {latitude}, {longitude}.')"
   ]
  },
  {
   "cell_type": "markdown",
   "metadata": {},
   "source": [
    "# Make and Display Clustering Map "
   ]
  },
  {
   "cell_type": "code",
   "execution_count": 31,
   "metadata": {},
   "outputs": [],
   "source": [
    "#for set the cluster number as label number\n",
    "kclusters=len(df5.Label.unique())\n",
    "\n",
    "# create map\n",
    "map_toronto = folium.Map(location=[latitude, longitude], zoom_start=11)\n",
    "\n",
    "# set color scheme for the clusters\n",
    "x = np.arange(kclusters)\n",
    "ys = [i + x + (i*x)**2 for i in range(kclusters)]\n",
    "colors_array = cm.rainbow(np.linspace(0, 1, len(ys)))\n",
    "rainbow = [colors.rgb2hex(i) for i in colors_array]\n",
    "\n",
    "# add markers to the map\n",
    "markers_colors = []\n",
    "for lat, lon, cluster in zip(df5['Latitude'], df5['Longitude'], df5['Label']):\n",
    "    label = folium.Popup(str(df5['Borough']) + ' Cluster ' + str(cluster), parse_html=True)\n",
    "    folium.CircleMarker(\n",
    "        [lat, lon],\n",
    "        radius=5,\n",
    "        popup=label,\n",
    "        color=rainbow[cluster-1],\n",
    "        fill=True,\n",
    "        fill_color=rainbow[cluster-1],\n",
    "        fill_opacity=0.7).add_to(map_toronto)"
   ]
  },
  {
   "cell_type": "code",
   "execution_count": 32,
   "metadata": {},
   "outputs": [
    {
     "data": {
      "text/html": [
       "<div style=\"width:100%;\"><div style=\"position:relative;width:100%;height:0;padding-bottom:60%;\"><iframe src=\"data:text/html;charset=utf-8;base64,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\" style=\"position:absolute;width:100%;height:100%;left:0;top:0;border:none !important;\" allowfullscreen webkitallowfullscreen mozallowfullscreen></iframe></div></div>"
      ],
      "text/plain": [
       "<folium.folium.Map at 0x28e5f4b9bc8>"
      ]
     },
     "execution_count": 32,
     "metadata": {},
     "output_type": "execute_result"
    }
   ],
   "source": [
    "map_toronto"
   ]
  },
  {
   "cell_type": "code",
   "execution_count": null,
   "metadata": {},
   "outputs": [],
   "source": []
  }
 ],
 "metadata": {
  "kernelspec": {
   "display_name": "Python 3",
   "language": "python",
   "name": "python3"
  },
  "language_info": {
   "codemirror_mode": {
    "name": "ipython",
    "version": 3
   },
   "file_extension": ".py",
   "mimetype": "text/x-python",
   "name": "python",
   "nbconvert_exporter": "python",
   "pygments_lexer": "ipython3",
   "version": "3.7.6"
  }
 },
 "nbformat": 4,
 "nbformat_minor": 4
}
